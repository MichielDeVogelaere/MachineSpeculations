{
 "cells": [
  {
   "cell_type": "code",
   "execution_count": null,
   "id": "c837fb72",
   "metadata": {},
   "outputs": [
    {
     "name": "stdout",
     "output_type": "stream",
     "text": [
      "Fitting 5 folds for each of 648 candidates, totalling 3240 fits\n",
      "Fitting 5 folds for each of 18 candidates, totalling 90 fits\n",
      "Fitting 5 folds for each of 16 candidates, totalling 80 fits\n",
      "Submission file created: submission.csv\n"
     ]
    }
   ],
   "source": [
    "import pandas as pd\n",
    "import numpy as np\n",
    "from scipy.stats import mode\n",
    "from Models.ensemble import train_model as train_ensemble\n",
    "\n",
    "# Load train data\n",
    "X_train = pd.read_csv(\"Preprocessed_data/X_train_preprocessed.csv\")\n",
    "y_train = pd.read_csv(\"Preprocessed_data/y_train.csv\").squeeze()\n",
    "\n",
    "# Train ensemble models (tuple of 3 models)\n",
    "models = train_ensemble(X_train, y_train)\n",
    "lr, rf, gb = models\n",
    "\n",
    "# Load test data and PassengerId\n",
    "X_test = pd.read_csv(\"Preprocessed_data/X_test_preprocessed.csv\")\n",
    "passenger_ids = pd.read_csv(\"Preprocessed_data/test_passenger_ids.csv\")\n",
    "\n",
    "# Get predictions from each model\n",
    "lr_pred = lr.predict(X_test)\n",
    "rf_pred = rf.predict(X_test)\n",
    "gb_pred = gb.predict(X_test)\n",
    "\n",
    "# Majority vote ensemble prediction\n",
    "ensemble_pred = mode(np.vstack([lr_pred, rf_pred, gb_pred]), axis=0)[0].flatten()\n",
    "\n",
    "# Create submission DataFrame\n",
    "submission_df = pd.DataFrame({\n",
    "    \"PassengerId\": passenger_ids.squeeze(),  # ensure it's a Series\n",
    "    \"Survived\": ensemble_pred.astype(int)    # make sure values are ints 0/1\n",
    "})\n",
    "\n",
    "# Validate submission shape & columns\n",
    "assert submission_df.shape[0] == 418, \"Submission must have 418 rows\"\n",
    "assert list(submission_df.columns) == [\"PassengerId\", \"Survived\"], \"Submission must have exactly 2 columns: PassengerId, Survived\"\n",
    "\n",
    "# Save to csv without index\n",
    "submission_df.to_csv(\"submission.csv\", index=False)\n",
    "\n",
    "print(\"Submission file created: submission.csv\")\n"
   ]
  },
  {
   "cell_type": "code",
   "execution_count": null,
   "id": "3caf5b52",
   "metadata": {},
   "outputs": [],
   "source": [
    "Training Logistic Regression...\n",
    "Best LR CV score: 0.8482\n",
    "Training Random Forest...\n",
    "Best RF CV score: 0.8590\n",
    "Training Gradient Boosting...\n",
    "Best GB CV score: 0.8564\n",
    "Submission file created: submission.csv"
   ]
  }
 ],
 "metadata": {
  "kernelspec": {
   "display_name": "base",
   "language": "python",
   "name": "python3"
  },
  "language_info": {
   "codemirror_mode": {
    "name": "ipython",
    "version": 3
   },
   "file_extension": ".py",
   "mimetype": "text/x-python",
   "name": "python",
   "nbconvert_exporter": "python",
   "pygments_lexer": "ipython3",
   "version": "3.12.7"
  }
 },
 "nbformat": 4,
 "nbformat_minor": 5
}
